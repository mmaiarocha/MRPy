{
 "cells": [
  {
   "cell_type": "markdown",
   "metadata": {},
   "source": [
    "Federal University of Rio Grande do Sul (UFRGS)   \n",
    "Postgraduate Program in Civil Engineering (PPGEC)\n",
    "# MRPy - [M]ultivariate [R]andom [P]rocesses with P[y]thon  \n",
    "\n",
    "_A Python Class for Stochastic Dynamic Analysis of Structural Systems_\n",
    "---\n",
    "_Prof. Marcelo M. Rocha, Dr.techn._ [(ORCID)](https://orcid.org/0000-0001-5640-1020)  \n",
    "_Porto Alegre, RS, Brazil_ \n"
   ]
  },
  {
   "cell_type": "markdown",
   "metadata": {},
   "source": [
    "---\n",
    "## Table of contents   \n",
    "\n",
    "1. [Basic concept](#concept)  \n",
    "\n",
    "2. [Constructors using external information (class methods)](#external)  \n",
    "   2.1.  [Directly from ```ndarray```](#ndarray)  \n",
    "   2.2.  [Reading from file](#from_file)  \n",
    "   2.3.  [Simulate from spectral density](#from_spectrum)  \n",
    "   2.4.  [Simulate from autocovariance](#from_autocov)  \n",
    "   2.5.  [Simulate from pseudo-spectrum](#from_pseudo)  \n",
    "   \n",
    "3. [Constructors through modification (object methods)](#modifiers)   \n",
    "   3.1.  [Remove mean value](#zero_mean)   \n",
    "   3.2.  [Weighted superposition](#superpose)   \n",
    "   3.3.  [Double length with trailing mean values](#double)  \n",
    "   3.4.  [Extract segment](#extract)   \n",
    "   3.5.  [Apply amplitude envelope](#envelope)   \n",
    "   3.6.  [Moving average](#mov_average)  \n",
    "   3.7.  [Bandpass and bandstop filters](#filtered)  \n",
    "   3.8.  [Kanai/Tajimi filter for seismic acceleration](#Kanai)  \n",
    "   3.9.  [Integration and diferentiation in frequency domain](#calculus)  \n",
    "   3.10. [Numerical solution of the dynamic equilibrium equation](#sdof)  \n",
    "   3.11. [Free system response by random decrement](#random_decrement)  \n",
    "   3.12. [Fit theoretical free response equation](#fit_decay)  \n",
    "\n",
    "4. [Constructors from conceptual properties](#special)   \n",
    "   4.1.  [Zero process](#zero_process)   \n",
    "   4.2.  [Dirac's Delta function (unit impulse)](#dirac)   \n",
    "   4.3.  [Heavisides function (unit step)](#heaviside)  \n",
    "   4.4.  [White noise](#white_noise)  \n",
    "   4.5.  [Pink noise](#pink_noise)  \n",
    " \n",
    "5. [Methods for time series analysis](#properties)  \n",
    "   5.1.  [Spectral density estimation (periodogram)](#periodogram)  \n",
    "   5.2.  [Autocovariance and autocorrelation function](#autocov)  \n",
    "   5.3.  [Pseudo-spectrum estimation](#pseudo)  \n",
    "   5.4.  [Peak factor by Davenport's formula](#Davenport)  \n",
    "   5.5.  [Peak factor by splitmax method](#splitmax)  \n",
    "\n",
    "6. [Further methods](#extras)   \n",
    "   6.1.  [Plot axis generation](#axis)   \n",
    "   6.2.  [Pre-visualization plots](#plots)   \n",
    "   6.3.  [Save to file](#to_file)   \n",
    "   6.4.  [Periodogram to autocovariance conversions](#Sx2Cx)   \n",
    "   6.5.  [Wind speed turbulence spectra](#wind_spectra)   \n",
    "   6.6.  [UBC pseudo spectrum for seismic acceleration](#UBC_spectrum)   \n",
    "\n",
    "7. [Examples of application](#examples)   \n",
    "   7.1. [Modal analysis of structural systems](#modal)   \n",
    "   7.2. [Wind turbulence response by NBR-6123](#NBR6123)   \n",
    "   7.3. [Seismic response by UBC-1997](#UBC1997)   \n",
    "\n",
    "___"
   ]
  },
  {
   "cell_type": "code",
   "execution_count": 2,
   "metadata": {},
   "outputs": [],
   "source": [
    "import numpy as np\n",
    "import matplotlib.pyplot as plt\n",
    "from   MRPy import MRPy"
   ]
  },
  {
   "cell_type": "markdown",
   "metadata": {},
   "source": [
    "## 1. Basic concept  <a name=\"concept\"></a>\n",
    "\n",
    "The ```MRPy``` class inherits from ```numpy.ndarray``` with the inclusion of a time attribute, which is optionally ```fs```, the sampling frequency, or ```Td```, the time span. Only one of these attribute must be specified at object construction, while the other will be automatically calculated through the relation:\n",
    "\n",
    "\\begin{equation}\n",
    " N = T_{\\rm d} \\; f_{\\rm s}\n",
    "\\end{equation}  \n",
    "\n",
    "The series length ```N``` must be an even integer. \n",
    "\n",
    "To better illustrate the concept, the basic construction sintax is exemplified below by 3 simulations of a Gaussian white noise, with sampling frequency 512Hz:"
   ]
  },
  {
   "cell_type": "code",
   "execution_count": 3,
   "metadata": {},
   "outputs": [],
   "source": [
    "arry = np.random.randn(3, 8192)\n",
    "X    = MRPy(arry, fs=512)"
   ]
  },
  {
   "cell_type": "markdown",
   "metadata": {},
   "source": [
    "The input array contains any number of time series disposed as rows or columns, but internally the constructor will identify the largest dimension and force time series to be disposed as rows. This means that the provided array will be eventually transposed and the object content is always a matrix in the form:\n",
    "\n",
    "\\begin{equation}\n",
    "{\\mathbf X}(t) = \n",
    "\\begin{bmatrix}\n",
    " X_1(t_1)    &  X_1(t_2)    &  X_1(t_3)    & \\cdots  &  X_1(t_N)    \\\\\n",
    " X_2(t_1)    &  X_2(t_2)    &  X_2(t_3)    & \\cdots  &  X_2(t_N)    \\\\\n",
    " X_3(t_1)    &  X_3(t_2)    &  X_3(t_3)    & \\cdots  &  X_3(t_N)    \\\\\n",
    "\\cdots       & \\cdots       & \\cdots       & \\cdots  & \\cdots       \\\\\n",
    " X_{NX}(t_1) &  X_{NX}(t_2) &  X_{NX}(t_3) & \\cdots  &  X_{NX}(t_N) \\\\\n",
    "\\end{bmatrix}\n",
    "\\end{equation}\n",
    "\n",
    "From this definition, five attributes are internally assigned to the ```MRPy``` object ```X```:"
   ]
  },
  {
   "cell_type": "code",
   "execution_count": 4,
   "metadata": {},
   "outputs": [
    {
     "name": "stdout",
     "output_type": "stream",
     "text": [
      " fs = 512.0Hz\n",
      " Td = 16.0s\n",
      "\n",
      " NX = 3\n",
      " N  = 8192\n",
      " M  = 4097\n"
     ]
    }
   ],
   "source": [
    "X.printAttrib()"
   ]
  },
  {
   "cell_type": "markdown",
   "metadata": {},
   "source": [
    "where ```NX``` is the number of time series (number of matrix rows) and ```  M = N//2 + 1  ``` is the (odd) half length of each series in ```X```, corresponding to the length of spectral density and autocovariance estimators. These attributes are kept ready to be used by class methods presented in this notebook. \n",
    "\n",
    "If the series length ```N```  (number of columns) is not even, it will be truncated by 1 at construction, so _it is strongly recommended to provide only series with even lengths to avoid unintended truncation_.  \n",
    "\n",
    "There are two main reasons for disposing the time series as rows in the ```MRPy``` array:\n",
    "\n",
    "1. In the context of Structural Dynamics, both load and the response vectors are column vectors. Hence, ```MRPy``` arrays can undergo matrix operations as they are (for instance, they can be pre-multiplied by the modal shape matrix), each column being the load or the response at a given time step. Indeed, time series in MRPy instances are meant to be associated with system degrees of freedom or vibration modes.\n",
    "\n",
    "2. Iteration over time series is straightforward with commands    \n",
    "   ```for row in X:```   \n",
    "   or   \n",
    "   ```for kX, row in enumerate(X):```   \n",
    "   which are frequently used along class methods code.\n",
    "\n",
    "\n",
    "The inheritance from ```ndarray``` also ensures that many useful methods are kept available:"
   ]
  },
  {
   "cell_type": "code",
   "execution_count": 8,
   "metadata": {},
   "outputs": [
    {
     "name": "stdout",
     "output_type": "stream",
     "text": [
      " mean =  0.0024\n",
      " std  =  1.0045\n",
      " min  = -3.7158\n",
      " max  =  4.2876\n"
     ]
    }
   ],
   "source": [
    "print(' mean = {0:7.4f}\\n std  = {1:7.4f}\\n min  = {2:7.4f}\\n max  = {3:7.4f}'.format(\n",
    "        X.mean(), X.std(), X.min(), X.max()))"
   ]
  },
  {
   "cell_type": "markdown",
   "metadata": {},
   "source": [
    "There is a quick visualization method available, which works for ```NX``` not larger than 12:"
   ]
  },
  {
   "cell_type": "code",
   "execution_count": 6,
   "metadata": {
    "scrolled": false
   },
   "outputs": [
    {
     "data": {
      "image/png": "[encoded data removed]",
      "text/plain": [
       "<Figure size 576x576 with 3 Axes>"
      ]
     },
     "metadata": {
      "needs_background": "light"
     },
     "output_type": "display_data"
    }
   ],
   "source": [
    "h0 = X.plot_time(fig=0, figsize=(8, 8), axis_t=[0, X.Td, -5, 5])"
   ]
  },
  {
   "cell_type": "markdown",
   "metadata": {},
   "source": [
    "There is also a quick visualization method in frequency domain (see section [2.3 Simulate from spectral density](#from_spectrum)):"
   ]
  },
  {
   "cell_type": "code",
   "execution_count": 7,
   "metadata": {},
   "outputs": [
    {
     "data": {
      "image/png": "[encoded data removed]",
      "text/plain": [
       "<Figure size 576x576 with 3 Axes>"
      ]
     },
     "metadata": {
      "needs_background": "light"
     },
     "output_type": "display_data"
    }
   ],
   "source": [
    "h1 = X.plot_freq(fig=1, figsize=(8, 8), axis_f=[0, X.fs/2, 0, 0.05])"
   ]
  },
  {
   "cell_type": "markdown",
   "metadata": {},
   "source": [
    "The next sections present the available methods for creating, modifying and operating with\n",
    "```MRPy``` instances.\n"
   ]
  },
  {
   "cell_type": "markdown",
   "metadata": {},
   "source": [
    "## 2. Constructors using external information (class methods)  <a name=\"external\"></a>\n",
    "\n",
    "### 2.1. Directly from ```ndarray```  <a name=\"ndarray\"></a>\n",
    "\n",
    "The example provided in the previous section illustrates how a ```MRPy``` instance can be directly created from a ```ndarray``` instance. The same can be accomplished by specifying the time span instead of the sampling frequency.   \n",
    "\n",
    "Let's present another example, this time by combining some noise to a sinus function:\n"
   ]
  },
  {
   "cell_type": "code",
   "execution_count": 9,
   "metadata": {},
   "outputs": [
    {
     "data": {
      "image/png": "[encoded data removed]",
      "text/plain": [
       "<Figure size 576x216 with 1 Axes>"
      ]
     },
     "metadata": {
      "needs_background": "light"
     },
     "output_type": "display_data"
    },
    {
     "data": {
      "image/png": "[encoded data removed]",
      "text/plain": [
       "<Figure size 576x216 with 1 Axes>"
      ]
     },
     "metadata": {
      "needs_background": "light"
     },
     "output_type": "display_data"
    }
   ],
   "source": [
    "Td   =  16.      # signal duration (seconds)\n",
    "N    =  2048     # number of sampling points\n",
    "\n",
    "c0   =  1.0      # signal mean value\n",
    "s0   =  0.5      # amplitude of harmonic part\n",
    "f0   =  1.0      # frequency of harmonic part (Hz)\n",
    "n0   =  1.0      # amplitude of gaussian noise\n",
    "\n",
    "t    =  np.linspace(0, Td, N)\n",
    "arry =  c0 + s0*np.sin(2*np.pi*f0*t) + n0*np.random.randn(N)\n",
    "\n",
    "Y    =  MRPy(arry, Td=Td)\n",
    "\n",
    "h2   =  Y.plot_time(fig=2, figsize=(8, 3), axis_t=[0, Y.Td, -5, 5])\n",
    "h3   =  Y.plot_freq(fig=3, figsize=(8, 3), axis_f=[0, 10.0,  0, 3])"
   ]
  },
  {
   "cell_type": "markdown",
   "metadata": {},
   "source": [
    "### 2.2. Reading from file  <a name=\"from_file\"></a>\n",
    "\n",
    "The method ```from_file()``` reads a ```MRPy``` object from a specified file. Some formats are implemented and others may be included to expand possibilities. The default file format is ```form='mrpy'```, which is a gnu zipped (```gzip```) file with a pickled object dumping (```pickle```). Files with this format can be generated as explained in section [5.2. Save to file](#to_file).\n",
    "\n",
    "The other possibilities for parameter ```form``` are:\n",
    "\n",
    "1. ```'excel'```: reads an Excel file (.xlsx) containing a ```pandas``` data frame in a sheet named ```MRPy```. The ```index``` attribute (first column) correspond to time instants and the further columns are the time series. Column headers are disregarded. This format allow easy communication with Excel.\n",
    "\n",
    "2. ```'columns'```: reads a tab delimited ASCII file (.txt), where first column corresponds to time instants and following columns are the time series.\n",
    "\n",
    "3. ```'invh'```: reads a comma delimited ASCII file (.csv), where first column corresponds to time instants (in seconds) while the last three columns correspond to accelerations in axis $x$, $y$ and $z$ measured with the cell phone app \"iNVH\" by Bosch. This is the format is used in classroom examples.\n",
    "\n",
    "4. ```'MPU6050'```: reads a gnu zipped comma delimited ASCII file (.csv.gz), where first column corresponds to time instants (in seconds), the following three columns correspond to accelerations in axis $x$, $y$ and $z$, and the last three columns correspond to angular velocities in axis $x$, $y$ and $z$. This is the format used by a Raspberry Pi data logger reading a MPU6050 sensor that this author has developed for vibration monitoring. \n",
    "\n",
    "File extensions must not be included in the file name. ASCII files are read with ```numpy.genfromtxt()```. No matter the specified format, the data will undergo resampling to ensure even sampling frequency. This means that all these formats allows for _slightly_ irregular sampling rates. The series are resampled through linear interpolation (with ```scipy``` function ```interp1d```) while its length an total time span are preserved. The resampling function is also available as a class method ```resampling()```:"
   ]
  },
  {
   "cell_type": "code",
   "execution_count": null,
   "metadata": {
    "scrolled": true
   },
   "outputs": [],
   "source": [
    "ti = np.arange(0,1,0.05) + 0.04*np.random.rand(20)  # irregular time steps!\n",
    "ti = ti - ti[0]\n",
    "Ei = np.random.randn(20)                            # simulation\n",
    "\n",
    "E  = MRPy.resampling(ti, Ei);                       # resampling\n",
    "\n",
    "h4 = E.plot_time(fig=4, figsize=(8, 3), axis_t=[0, 1, -3, 3])       # resampled\n",
    "h4 = plt.plot(ti, Ei, 'ro', ti, Ei, 'r:', lw=1)                      # original"
   ]
  },
  {
   "cell_type": "markdown",
   "metadata": {},
   "source": [
    "Below is an example by reading a file generated with the accelerations recorded by the cell phone app \"iNVH\" from Bosch:"
   ]
  },
  {
   "cell_type": "code",
   "execution_count": null,
   "metadata": {},
   "outputs": [],
   "source": [
    "C  = MRPy.from_file('resources/iNVH001', form='invh');\n",
    "C.attributes()\n",
    "\n",
    "h5 = C.plot_time(fig=5, figsize=(8, 8), axis_t=[0, C.Td, -20, 20])"
   ]
  },
  {
   "cell_type": "markdown",
   "metadata": {},
   "source": [
    "File samples for all four available formats are included in the ```resources/``` folder that comes along with this notebook. "
   ]
  },
  {
   "cell_type": "markdown",
   "metadata": {},
   "source": [
    "### 2.3 Simulate from spectral density  <a name=\"from_spectrum\"></a>\n",
    "\n",
    "The power spectral density, $S_{X}(\\omega)$, of a random process is related to the autocovariance function, $C_{X}(\\tau)$, as a Fourier transform pair:\n",
    "\n",
    "$$ S_{X}(\\omega) = \\frac{1}{2\\pi} \\int_{-\\infty}^{+\\infty}{C_{X}(\\tau) e^{-i\\omega \\tau} \\: d\\tau} $$\n",
    "\n",
    "$$ C_{X}(\\tau) = \\int_{-\\infty}^{+\\infty}{S_{X}(\\omega) e^{i\\omega \\tau} \\: d\\omega} $$\n",
    "\n",
    "By the definition used herein, the integral of the (one-sided) spectral density is the mean square value of the signal:\n",
    "\n",
    "$$ \\int_0^\\infty {S_X(\\omega) \\: d\\omega} = \\sigma_X^2 + \\mu_X^2 $$\n",
    "\n",
    "The same can be obtained by setting $\\tau = 0$ in the definition of $C_{X}(\\tau)$ above:\n",
    "\n",
    "$$  C_{X}(0) = \\int_0^\\infty {S_X(\\omega) \\: d\\omega} = \\sigma_X^2 + \\mu_X^2 $$\n",
    "\n",
    "As an example, let us simulate a wind speed turbulence, $v(t)$, according to Harris' spectral density, $S_V(f)$. In section [6.5. Wind speed turbulence spectra](#wind_spectra) a utility method is described that returns the following spectral density, but for now let us do it explicitly. \n",
    "\n",
    "$$ \\frac{f S_V(f)}{\\sigma_V^2} = \\frac{0.6 Y}{\\left( 2 + Y^2 \\right)^{5/6}}$$\n",
    "with:\n",
    "\\begin{align*}\n",
    " Y          &= 1800 f \\;/\\; \\bar{V}_{10}     \\\\\n",
    " \\sigma_V^2 &= 6.66 \\; c_{\\rm as} \\; \\bar{V}_{10}^2\n",
    "\\end{align*}\n",
    "\n",
    "where $\\sigma_V^2$ is the wind speed variance, $c_{\\rm as}$ is the surface drag coefficient and $\\bar{V}_{10}$ is the mean wind speed at 10m height.\n",
    "\n",
    "Firstly, the frequency axis is generated:"
   ]
  },
  {
   "cell_type": "code",
   "execution_count": null,
   "metadata": {},
   "outputs": [],
   "source": [
    "cas =  6.5e-3                      # NBR-6123 category II\n",
    "V10 =  20.                         # mean speed at 10m (m/s)\n",
    "sV2 =  6.66*cas*(V10**2)           # wind speed variance   \n",
    "\n",
    "fs  =  64.                         # samplig rate\n",
    "N   =  8192                        # length of sample\n",
    "M   =  N//2 + 1                    # length of periodogram\n",
    "df  =  fs/M                        # frequency step\n",
    "\n",
    "f   =  np.linspace(0, fs/2, M)     # frequency axis\n",
    "Y   =  1800*f[1:]/V10              # avoiding zero division"
   ]
  },
  {
   "cell_type": "markdown",
   "metadata": {},
   "source": [
    "To simulate a two-dimensional uncorrelated process, the spectral density must be calculated and replicated twice:"
   ]
  },
  {
   "cell_type": "code",
   "execution_count": null,
   "metadata": {},
   "outputs": [],
   "source": [
    "SV0       =  np.zeros((2, M))\n",
    "SV0[0,1:] =  0.6*sV2*Y/((2 + Y**2)**(5/6))/f[1:]\n",
    "SV0[1,1:] =  SV0[0,1:]  # (replicating)\n",
    "\n",
    "plt.figure(6, figsize=(8, 3))\n",
    "plt.grid(True)\n",
    "\n",
    "h6  = plt.loglog(f[1:], SV0[0,1:])"
   ]
  },
  {
   "cell_type": "markdown",
   "metadata": {},
   "source": [
    "Once the spectral density is defined, a ```MRPy``` instance can be simulated from it. Due to ```ndarray``` inheritance, the mean value can be directly added to the time series:"
   ]
  },
  {
   "cell_type": "code",
   "execution_count": null,
   "metadata": {},
   "outputs": [],
   "source": [
    "V  =  MRPy.from_periodogram(SV0, fs) + V10\n",
    "V.attributes()\n",
    "\n",
    "h7 =  V.plot_time(fig=7, figsize=(8, 6), axis_t=[0, V.Td,  -40,  40])"
   ]
  },
  {
   "cell_type": "markdown",
   "metadata": {},
   "source": [
    "It must be emphasized that the time series simulated above are _uncorrelated_. Simulation of correlated multi-variate random processes shall be implemented in a near future.\n",
    "\n",
    "To check wether the simulated series indeed present the intended spectra, the periodogram estimation method can be used. \n",
    "The _periodogram_ is the most basic estimator of the (one-sided) spectral density of a time series. It makes use of FFT (_Fast Fourier Transform_, ```numpy.fft```) and a time scaling factor that depends on the sampling rate, ```fs```. \n"
   ]
  },
  {
   "cell_type": "code",
   "execution_count": null,
   "metadata": {},
   "outputs": [],
   "source": [
    "SV1, fs = V.periodogram()\n",
    "\n",
    "plt.figure(8, figsize=(8, 3))\n",
    "plt.grid(True)\n",
    "\n",
    "h8  = plt.loglog(f[1:], SV0[0,1:], 'b:', lw=1)    # specified\n",
    "h8  = plt.loglog(f[1:], SV1[0,1:], 'r:', lw=1)    # simulated \n",
    "h8  = plt.loglog(f[1:], SV1[1,1:], 'g:', lw=1)    # simulated"
   ]
  },
  {
   "cell_type": "markdown",
   "metadata": {},
   "source": [
    "It can be finally confirmed that both simulated time series have _exactly_ the specified spectral density.\n",
    "\n",
    "There is also a quick autocovariance visualization method available:"
   ]
  },
  {
   "cell_type": "code",
   "execution_count": null,
   "metadata": {},
   "outputs": [],
   "source": []
  },
  {
   "cell_type": "markdown",
   "metadata": {},
   "source": [
    "### 2.4 Simulate from autocovariance   <a name=\"from_autocov\"></a>\n",
    "\n",
    "The autocovariance, $C_X(\\tau)$, may be explicitly provided as a ```ndarray```, or through a conversion from a spectral density, $S_X(\\omega)$, using the class tool ```Sx2Cx()```. Let us illustrate this by using the same spectral density specified in the previous section."
   ]
  },
  {
   "cell_type": "code",
   "execution_count": null,
   "metadata": {},
   "outputs": [],
   "source": [
    "CV0, Tmax = MRPy.Sx2Cx(SV0, fs)\n",
    "tau       = np.linspace(0, Tmax, M)\n",
    "\n",
    "plt.figure(9, figsize=(8, 3))\n",
    "plt.grid(True)\n",
    "\n",
    "h9  = plt.plot(tau, CV0[0,:])"
   ]
  },
  {
   "cell_type": "markdown",
   "metadata": {},
   "source": [
    "Conversely, there is also a class method to go from autocovariance to spectral density:\n"
   ]
  },
  {
   "cell_type": "code",
   "execution_count": null,
   "metadata": {},
   "outputs": [],
   "source": [
    "SV2, fs  = MRPy.Cx2Sx(CV0, Tmax)\n",
    "f        = np.linspace(0, fs/2, M)\n",
    "\n",
    "plt.figure(10, figsize=(8, 3))\n",
    "plt.grid(True)\n",
    "\n",
    "h10 = plt.loglog(f[1:], SV2[0,1:], 'b:', lw=1)\n",
    "h10 = plt.loglog(f[1:], SV0[0,1:], 'r:', lw=1)"
   ]
  },
  {
   "cell_type": "markdown",
   "metadata": {},
   "source": [
    "Once the autocovariance function is specified, simulation may be carried on as:"
   ]
  },
  {
   "cell_type": "code",
   "execution_count": null,
   "metadata": {},
   "outputs": [],
   "source": [
    "V   =  MRPy.from_autocov(CV0, Tmax) + V10\n",
    "V.attributes()\n",
    "\n",
    "h11 =  V.plot_time(fig=11, figsize=(8, 6), axis_t=[0, V.Td,  -40,  40])"
   ]
  },
  {
   "cell_type": "markdown",
   "metadata": {},
   "source": [
    "To check wether the simulated series indeed present the intended autocovariance, the ```autocov()``` estimation method can be used. This method will call the periodogram estimator and carry out the due conversions. "
   ]
  },
  {
   "cell_type": "code",
   "execution_count": null,
   "metadata": {},
   "outputs": [],
   "source": [
    "CV1, Tmax = V.autocov()\n",
    "\n",
    "plt.figure(12, figsize=(8, 3))\n",
    "plt.grid(True)\n",
    "\n",
    "h12 = plt.plot(tau, CV0[0,:], 'b:', lw=1)     # specified\n",
    "h12 = plt.plot(tau, CV1[0,:], 'r:', lw=1)     # estimated\n",
    "h12 = plt.plot(tau, CV1[1,:], 'g:', lw=1)     # estimated"
   ]
  },
  {
   "cell_type": "markdown",
   "metadata": {},
   "source": [
    "And it can be also confirmed that both simulated time series have _exactly_ the specified autocovariance function.\n",
    "\n",
    "For any MRPy instance there is a quick method for checking the autocovariance function available. The plot, however, presents the _autocorrelation function_, which corresponds to the autocovariance scaled such that is value at origin (the variance) is normalized to unity."
   ]
  },
  {
   "cell_type": "code",
   "execution_count": null,
   "metadata": {},
   "outputs": [],
   "source": [
    "h13 = V.plot_corr(fig=13, figsize=(8, 6), axis_T=[0, Tmax, -0.2, 1.2])"
   ]
  },
  {
   "cell_type": "markdown",
   "metadata": {},
   "source": [
    "### 2.5 Simulate from pseudo-spectrum   <a name=\"from_pseudo\"></a>\n",
    "\n",
    "A pseudo spectrum is a function of the vibration period, $T$, of a one degree of freedom system. The spectrum corresponds to the system peak displacement response resulting from a given ground acceleration. The _pseudo-spectrum_ is the peak acceleration response calculated by multiplying the peak displacement by the squared frequency.\n",
    "It is important to observe that, although the word _spectrum_ is used, this is not the same concept behind the spectral density definition (energy distribution across frequencies). \n",
    "\n",
    "As an example, firstly a seismic acceleration record is read from file:"
   ]
  },
  {
   "cell_type": "code",
   "execution_count": null,
   "metadata": {},
   "outputs": [],
   "source": [
    "Acc = MRPy.from_file('resources/earthquake', form='columns'); \n",
    "Acc.attributes()\n",
    "\n",
    "h14 = Acc.plot_time(fig=14, figsize=(8, 3), axis_t=[0, Acc.Td, -0.5, 0.5])"
   ]
  },
  {
   "cell_type": "markdown",
   "metadata": {},
   "source": [
    "Then the displacement response spectrum is estimated by the ```pseudo()``` object method. This method may take some time to compute, for the 1 d.o.f. system dynamic response must be evaluated for _each_ frequency step!"
   ]
  },
  {
   "cell_type": "code",
   "execution_count": null,
   "metadata": {},
   "outputs": [],
   "source": [
    "Su, Tmax = Acc.pseudo(zeta=0.05)         # system viscous damping must be specified, 5% is default\n",
    "T        = np.linspace(0, Tmax, Acc.M)\n",
    "\n",
    "plt.figure(15, figsize=(8, 3))\n",
    "h15 = plt.plot(T, Su[0,:])\n",
    "plt.grid(True)"
   ]
  },
  {
   "cell_type": "markdown",
   "metadata": {},
   "source": [
    "There is also a method for quickly plotting this displacement spectrum:"
   ]
  },
  {
   "cell_type": "code",
   "execution_count": null,
   "metadata": {},
   "outputs": [],
   "source": [
    "h16 = Acc.plot_pseudo(fig=16, figsize=(8, 3), axis_T=[0, Tmax, -0.01, 0.1])"
   ]
  },
  {
   "cell_type": "markdown",
   "metadata": {},
   "source": [
    "This is, however, a peak displacement spectrum. To convert it to peak acceleration (pseudo-spectrum) is must be multiplied by the squared frequency:"
   ]
  },
  {
   "cell_type": "code",
   "execution_count": null,
   "metadata": {},
   "outputs": [],
   "source": [
    "Sa       = np.zeros(Su.shape)\n",
    "Sa[0,1:] = Su[0,1:]*(2*np.pi/T[1:])**2\n",
    "\n",
    "plt.figure(17, figsize=(8, 3))\n",
    "h17 = plt.plot(T, Sa[0,:])\n",
    "plt.grid(True)\n"
   ]
  },
  {
   "cell_type": "markdown",
   "metadata": {},
   "source": [
    "This estimated acceleration response spectrum corresponds to one single ground acceleration record. A collection of records lead to normalized spectra as provided by design codes. In section [6.6. UBC pseudo-spectrum for seismic acceleration](#UBC_spectrum) a utility method is described that returns a design spectrum from UBC code, but for now let us use the spectrum estimated above.\n",
    "\n",
    "To simulate a ground acceleration sample from the specified pseudo-acceleration spectrum the ```from_pseudo()``` method is called."
   ]
  },
  {
   "cell_type": "code",
   "execution_count": null,
   "metadata": {},
   "outputs": [],
   "source": [
    "T1 = 3.    # end of \"attack\" time\n",
    "T2 = 8.    # end of \"sustain\" time\n",
    "T0 = 8.    # time constan of the exponential amplitude decay\n",
    "\n",
    "A0 = MRPy.from_pseudo(Sa, Tmax, (T1, T2, T0), zeta=0.05)\n",
    "A0.attributes()\n",
    "\n",
    "h18 = A0.plot_time(fig=18, figsize=(8, 3), axis_t=[0, A0.Td, -0.5, 0.5])"
   ]
  },
  {
   "cell_type": "markdown",
   "metadata": {},
   "source": [
    "The specified acceleration pseudo-spectrum can be finally verified:"
   ]
  },
  {
   "cell_type": "code",
   "execution_count": null,
   "metadata": {},
   "outputs": [],
   "source": [
    "Su0, Tmax0 = A0.pseudo()\n",
    "Sa0        = np.zeros(Su0.shape)\n",
    "Sa0[0,1:]  = Su0[0,1:]*(2*np.pi/T[1:])**2\n",
    "\n",
    "plt.figure(19, figsize=(8, 3))\n",
    "h19 = plt.plot(T, Sa0[0,:], 'b', lw=1)\n",
    "h19 = plt.plot(T, Sa [0,:], 'r', lw=1)\n",
    "plt.grid(True)\n"
   ]
  },
  {
   "cell_type": "markdown",
   "metadata": {},
   "source": [
    "---\n",
    "## 3.  Constructors through modification (object methods) <a name=\"modifiers\"></a>\n",
    "\n",
    "### 3.1 Remove mean value  <a name=\"zero_mean\"></a>\n",
    "\n",
    "\n"
   ]
  },
  {
   "cell_type": "code",
   "execution_count": null,
   "metadata": {},
   "outputs": [],
   "source": []
  },
  {
   "cell_type": "markdown",
   "metadata": {},
   "source": []
  },
  {
   "cell_type": "markdown",
   "metadata": {},
   "source": [
    "### 3.2 Extract a segment   <a name=\"extract\"></a>"
   ]
  },
  {
   "cell_type": "markdown",
   "metadata": {},
   "source": []
  },
  {
   "cell_type": "code",
   "execution_count": null,
   "metadata": {},
   "outputs": [],
   "source": []
  },
  {
   "cell_type": "markdown",
   "metadata": {},
   "source": []
  },
  {
   "cell_type": "markdown",
   "metadata": {},
   "source": [
    "### 3.3.  Double length with trailing mean values  <a name=\"double\"></a>"
   ]
  },
  {
   "cell_type": "markdown",
   "metadata": {},
   "source": []
  },
  {
   "cell_type": "code",
   "execution_count": null,
   "metadata": {},
   "outputs": [],
   "source": []
  },
  {
   "cell_type": "markdown",
   "metadata": {},
   "source": [
    "### 3.4.  Extract segment  <a name=\"extract\"></a> "
   ]
  },
  {
   "cell_type": "markdown",
   "metadata": {},
   "source": []
  },
  {
   "cell_type": "code",
   "execution_count": null,
   "metadata": {},
   "outputs": [],
   "source": []
  },
  {
   "cell_type": "markdown",
   "metadata": {},
   "source": [
    "### 3.5.  Apply amplitude envelope  <a name=\"envelope\"></a> "
   ]
  },
  {
   "cell_type": "markdown",
   "metadata": {},
   "source": []
  },
  {
   "cell_type": "code",
   "execution_count": null,
   "metadata": {},
   "outputs": [],
   "source": []
  },
  {
   "cell_type": "markdown",
   "metadata": {},
   "source": [
    "### 3.6.  Moving average  <a name=\"mov_average\"></a>"
   ]
  },
  {
   "cell_type": "markdown",
   "metadata": {},
   "source": []
  },
  {
   "cell_type": "code",
   "execution_count": null,
   "metadata": {},
   "outputs": [],
   "source": []
  },
  {
   "cell_type": "markdown",
   "metadata": {},
   "source": [
    "### 3.7.  Bandpass and bandstop filters  <a name=\"filtered\"></a>  "
   ]
  },
  {
   "cell_type": "markdown",
   "metadata": {},
   "source": []
  },
  {
   "cell_type": "code",
   "execution_count": null,
   "metadata": {},
   "outputs": [],
   "source": []
  },
  {
   "cell_type": "markdown",
   "metadata": {},
   "source": [
    "### 3.8.  Kanai/Tajimi filter for seismic acceleration  <a name=\"Kanai\"></a>"
   ]
  },
  {
   "cell_type": "markdown",
   "metadata": {},
   "source": []
  },
  {
   "cell_type": "code",
   "execution_count": null,
   "metadata": {},
   "outputs": [],
   "source": []
  },
  {
   "cell_type": "markdown",
   "metadata": {},
   "source": [
    "### 3.9.  Integration and diferentiation in frequency domain   <a name=\"calculus\"></a>"
   ]
  },
  {
   "cell_type": "markdown",
   "metadata": {},
   "source": [
    "A time signal frequently needs to be integrated or diferentiated with respect to time. For instance, signal may be generated by sensor like accelerometers, what means that to yield the (fluctuating part of) displacement it must be twice integrated. \n",
    "\n",
    "There are some issues with integrating a noisy signal, as the cumulative sum of random errors yields a _random walk_. \n",
    "\n",
    "Let us demonstrate it with:"
   ]
  },
  {
   "cell_type": "code",
   "execution_count": null,
   "metadata": {},
   "outputs": [],
   "source": []
  },
  {
   "cell_type": "markdown",
   "metadata": {},
   "source": [
    "Observe that, despite noise mean value being zero, there are large excursions with growing amplitude along time. The explanation is simple: the variance of the integrated process is the sum of variances of all previous samples, what means it is non-stationary and monotonically increasing.\n",
    "\n",
    "To face this problem, the URP module provides frequency domain integral and derivative functions that allow the definition of a frequency band to be retained, while signal energy outside this band if fully disregarded. This means that whenever integrating a signal, the lower bound of this band may be specified as high enough to get rid of random walking. \n",
    "\n",
    "To exemplify the bandpass integration, we firstly integrate with the full signal band available:\n"
   ]
  },
  {
   "cell_type": "code",
   "execution_count": null,
   "metadata": {},
   "outputs": [],
   "source": []
  },
  {
   "cell_type": "markdown",
   "metadata": {},
   "source": [
    "... and now the band is restricted:"
   ]
  },
  {
   "cell_type": "code",
   "execution_count": null,
   "metadata": {},
   "outputs": [],
   "source": []
  },
  {
   "cell_type": "markdown",
   "metadata": {},
   "source": [
    "By comparing the two results (which corresponds to the _same_ signal simulation) it is possible to see that the low frequency content can be arbitrarily removed without further affecting the signal. The most suitable value for the high pass frequency (lower bound of given frequency range) must be chosen in order to get rid of drift without attenuating relevant signal information.\n",
    "\n",
    "On the other hand, whenever differentiating a signal, the upper bound may be specified as low enough to get rid of high frequency noise intrinsic to numerical derivatives.\n",
    "\n",
    "To demonstrate this funcionallity, let us differentiate back the (high-pass) integrated signal of the previous section, but initially with the full available band:"
   ]
  },
  {
   "cell_type": "code",
   "execution_count": null,
   "metadata": {},
   "outputs": [],
   "source": []
  },
  {
   "cell_type": "markdown",
   "metadata": {},
   "source": [
    "It can be observed that the original signal was _apparently_ fully recovered, but we know that the low frequency content has been removed as observed by a non-zero mean square error.\n",
    "\n",
    "Now we repeat the same operation, but getting rid of some undesirable high frequency signal content. Let us say that the upper bound of the available frequency range will be only 1/4 of the available:\n"
   ]
  },
  {
   "cell_type": "code",
   "execution_count": null,
   "metadata": {},
   "outputs": [],
   "source": []
  },
  {
   "cell_type": "markdown",
   "metadata": {},
   "source": [
    "and we finally check the integral of this signal:"
   ]
  },
  {
   "cell_type": "code",
   "execution_count": null,
   "metadata": {},
   "outputs": [],
   "source": []
  },
  {
   "cell_type": "markdown",
   "metadata": {},
   "source": [
    "from which it can be observed that now the integral not only has no drifting problem but is also smoothed out due to the previous low pass differentiation. Obviously the same integral could have been obtained from applying both lower and upper bounds at the same time."
   ]
  },
  {
   "cell_type": "markdown",
   "metadata": {},
   "source": [
    "### 3.10. Numerical solution of the dynamic equilibrium equation  <a name=\"sdof\"></a>"
   ]
  },
  {
   "cell_type": "markdown",
   "metadata": {},
   "source": []
  },
  {
   "cell_type": "code",
   "execution_count": null,
   "metadata": {},
   "outputs": [],
   "source": []
  },
  {
   "cell_type": "markdown",
   "metadata": {},
   "source": [
    "### 3.11. Free system response by random decrement  <a name=\"random_decrement\"></a> "
   ]
  },
  {
   "cell_type": "markdown",
   "metadata": {},
   "source": []
  },
  {
   "cell_type": "code",
   "execution_count": null,
   "metadata": {},
   "outputs": [],
   "source": []
  },
  {
   "cell_type": "markdown",
   "metadata": {},
   "source": [
    "### 3.12. Fit theoretical free response equation  <a name=\"fit_decay\"></a>"
   ]
  },
  {
   "cell_type": "markdown",
   "metadata": {},
   "source": []
  },
  {
   "cell_type": "code",
   "execution_count": null,
   "metadata": {},
   "outputs": [],
   "source": []
  },
  {
   "cell_type": "markdown",
   "metadata": {},
   "source": [
    "---\n",
    "## 4. Constructors from idealized properties <a name=\"special\"></a>"
   ]
  },
  {
   "cell_type": "markdown",
   "metadata": {},
   "source": [
    "### 4.1.  Zero time series <a name=\"zeros\"></a>\n"
   ]
  },
  {
   "cell_type": "code",
   "execution_count": null,
   "metadata": {},
   "outputs": [],
   "source": [
    "Z   = MRPy.zeros(NX=1, N=1024, fs=1024)\n",
    "f01 = Z.plot_time()\n"
   ]
  },
  {
   "cell_type": "markdown",
   "metadata": {},
   "source": [
    "### 4.2.  Dirac's Delta function (unit impulse) <a name=\"dirac\"></a>"
   ]
  },
  {
   "cell_type": "code",
   "execution_count": null,
   "metadata": {},
   "outputs": [],
   "source": [
    "D   = MRPy.Dirac(NX=1, N=1024, t0=5, Td=10)\n",
    "f02 = D.plot_time()\n"
   ]
  },
  {
   "cell_type": "markdown",
   "metadata": {},
   "source": [
    "### 4.3. Heaviside's function (unit step) <a name=\"heaviside\"></a>"
   ]
  },
  {
   "cell_type": "code",
   "execution_count": null,
   "metadata": {},
   "outputs": [],
   "source": [
    "H   = MRPy.Heaviside(NX=1, N=1024, t0=5, Td=10)\n",
    "f03 = H.plot_time()\n"
   ]
  },
  {
   "cell_type": "markdown",
   "metadata": {},
   "source": [
    "### 4.4.  White noise <a name=\"white_noise\"></a>"
   ]
  },
  {
   "cell_type": "code",
   "execution_count": null,
   "metadata": {},
   "outputs": [],
   "source": [
    "W   = MRPy.white_noise(NX=2, N=1000, Td=10)\n",
    "f04 = plt.plot(W[0], W[1], 'b.')\n"
   ]
  },
  {
   "cell_type": "markdown",
   "metadata": {},
   "source": [
    "### 4.5.  Pink noise <a name=\"pink_noise\"></a>"
   ]
  },
  {
   "cell_type": "code",
   "execution_count": null,
   "metadata": {},
   "outputs": [],
   "source": []
  },
  {
   "cell_type": "markdown",
   "metadata": {},
   "source": [
    "---\n",
    "## 5. Further methods for time series analysis <a name=\"properties\"></a>"
   ]
  },
  {
   "cell_type": "markdown",
   "metadata": {},
   "source": [
    "### 5.3.  Pseudo-spectrum estimation  <a name=\"pseudo\"></a>"
   ]
  },
  {
   "cell_type": "markdown",
   "metadata": {},
   "source": [
    "### 5.4.  Peak factor by Davenport's formula <a name=\"Davenport\"></a>"
   ]
  },
  {
   "cell_type": "markdown",
   "metadata": {},
   "source": []
  },
  {
   "cell_type": "code",
   "execution_count": null,
   "metadata": {},
   "outputs": [],
   "source": []
  },
  {
   "cell_type": "markdown",
   "metadata": {},
   "source": [
    "### 5.5.  Peak factor by splitmax method <a name=\"splitmax\"></a>"
   ]
  },
  {
   "cell_type": "markdown",
   "metadata": {},
   "source": []
  },
  {
   "cell_type": "code",
   "execution_count": null,
   "metadata": {},
   "outputs": [],
   "source": []
  },
  {
   "cell_type": "markdown",
   "metadata": {},
   "source": [
    "---\n",
    "## 6. General utilities  <a name=\"extras\"></a>"
   ]
  },
  {
   "cell_type": "markdown",
   "metadata": {},
   "source": [
    "### 6.1.  Plot axis generation <a name=\"axis\"></a>"
   ]
  },
  {
   "cell_type": "markdown",
   "metadata": {},
   "source": []
  },
  {
   "cell_type": "code",
   "execution_count": null,
   "metadata": {},
   "outputs": [],
   "source": []
  },
  {
   "cell_type": "markdown",
   "metadata": {},
   "source": [
    "### 6.2.  Pre-visualization plots <a name=\"plots\"></a>"
   ]
  },
  {
   "cell_type": "markdown",
   "metadata": {},
   "source": []
  },
  {
   "cell_type": "code",
   "execution_count": null,
   "metadata": {},
   "outputs": [],
   "source": []
  },
  {
   "cell_type": "markdown",
   "metadata": {},
   "source": [
    "### 6.3.  Save to file <a name=\"to_file\"></a>"
   ]
  },
  {
   "cell_type": "markdown",
   "metadata": {},
   "source": []
  },
  {
   "cell_type": "code",
   "execution_count": null,
   "metadata": {},
   "outputs": [],
   "source": []
  },
  {
   "cell_type": "markdown",
   "metadata": {},
   "source": [
    "### 6.4.  Periodogram to autocovariance conversions <a name=\"sx2cx\"></a>"
   ]
  },
  {
   "cell_type": "markdown",
   "metadata": {},
   "source": []
  },
  {
   "cell_type": "code",
   "execution_count": null,
   "metadata": {},
   "outputs": [],
   "source": []
  },
  {
   "cell_type": "markdown",
   "metadata": {},
   "source": [
    "### 6.5.  Wind speed turbulence spectra <a name=\"wind_spectra\"></a>\n",
    "\n"
   ]
  },
  {
   "cell_type": "code",
   "execution_count": null,
   "metadata": {},
   "outputs": [],
   "source": []
  },
  {
   "cell_type": "markdown",
   "metadata": {},
   "source": [
    "### 6.6. UBC pseudo-spectrum for seismic acceleration <a name=\"UBC_spectrum\"></a>\n",
    " \n",
    "As provided by UBC, the seismic acceleration pseudo spectrum depends on only two parameters: $C_a$ and $C_v$, as can be seen in the diagram below:\n",
    "\n",
    "<img src=\"resources/UBC1997_Spectrum.png\" alt=\"UBC1997_Spectrum\" width=\"480px\"/>\n"
   ]
  },
  {
   "cell_type": "code",
   "execution_count": null,
   "metadata": {},
   "outputs": [],
   "source": []
  },
  {
   "cell_type": "markdown",
   "metadata": {},
   "source": [
    "---\n",
    "## 7. Examples of application <a name=\"examples\"></a>"
   ]
  },
  {
   "cell_type": "markdown",
   "metadata": {},
   "source": [
    "###   7.1. Modal analysis of structural systems <a name=\"modal\"></a>"
   ]
  },
  {
   "cell_type": "markdown",
   "metadata": {},
   "source": []
  },
  {
   "cell_type": "code",
   "execution_count": null,
   "metadata": {},
   "outputs": [],
   "source": []
  },
  {
   "cell_type": "markdown",
   "metadata": {},
   "source": [
    "###   7.2. Wind turbulence response by NBR-6123 <a name=\"NBR6123\"></a>"
   ]
  },
  {
   "cell_type": "markdown",
   "metadata": {},
   "source": []
  },
  {
   "cell_type": "code",
   "execution_count": null,
   "metadata": {},
   "outputs": [],
   "source": []
  },
  {
   "cell_type": "markdown",
   "metadata": {},
   "source": [
    "###   7.3. Seismic response by UBC-1997  <a name=\"UBC1997\"></a>"
   ]
  },
  {
   "cell_type": "markdown",
   "metadata": {},
   "source": []
  },
  {
   "cell_type": "code",
   "execution_count": null,
   "metadata": {},
   "outputs": [],
   "source": []
  },
  {
   "cell_type": "markdown",
   "metadata": {},
   "source": [
    "---"
   ]
  }
 ],
 "metadata": {
  "kernelspec": {
   "display_name": "Python 3",
   "language": "python",
   "name": "python3"
  },
  "language_info": {
   "codemirror_mode": {
    "name": "ipython",
    "version": 3
   },
   "file_extension": ".py",
   "mimetype": "text/x-python",
   "name": "python",
   "nbconvert_exporter": "python",
   "pygments_lexer": "ipython3",
   "version": "3.7.6"
  }
 },
 "nbformat": 4,
 "nbformat_minor": 2
}
